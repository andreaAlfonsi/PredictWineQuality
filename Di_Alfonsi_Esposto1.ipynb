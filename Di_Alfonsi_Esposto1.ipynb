{
 "cells": [
  {
   "cell_type": "markdown",
   "metadata": {
    "slideshow": {
     "slide_type": "slide"
    }
   },
   "source": [
    "# Progetto di Data Intensive: Predizione della Qualità dei Vini \n",
    "\n",
    "### Alfonsi Andrea, Esposto Matteo\n"
   ]
  },
  {
   "cell_type": "markdown",
   "metadata": {},
   "source": [
    "## Problema analizzato e obiettivo:\n",
    "\n",
    "- Lo scopo di questo progetto è cercare di creare un modello in grado di predire la qualità dei vini in base ad alcuni dati ricavati da un test chimico fisico.\n",
    "\n",
    "- Sarà inoltre interessante vedere quali sono le caratteristiche più determinanti nel ricavo della qualità.\n"
   ]
  },
  {
   "cell_type": "markdown",
   "metadata": {},
   "source": [
    "## Dati impiegati e loro struttura:\n",
    "\n",
    "- Il dataset impiegato si chiama 'Wine Quality Data Set' e include dati sul 'Vino Verde', un vino portoghese originario della provincia storica del Minho nell'estremo nord del paese.\n",
    "\n",
    "- I dataset presenti sono 2, e includono dati sulle varianti bianche e rosse del 'Vino Verde'.\n",
    "\n",
    "- I dati derivano da un test fisico chimico effettuato su dei campioni e non includono quindi altre informazioni come il prezzo o il brand del vino.\n",
    "\n",
    "- Per visualizzare le informazioni sui dati, cominciamo importando i moduli che andremo ad utilizzare."
   ]
  },
  {
   "cell_type": "code",
   "execution_count": 1,
   "metadata": {},
   "outputs": [],
   "source": [
    "import numpy as np\n",
    "import pandas as pd"
   ]
  },
  {
   "cell_type": "markdown",
   "metadata": {},
   "source": [
    "- Andiamo ora ad importare il dataset attraverso una funzione di pandas, i dati sono separati da un ';' perciò lo dovremo mettere come separatore.\n",
    "- Come detto i dataset sono 2, quindi saranno salvati in 2 variabili diverse."
   ]
  },
  {
   "cell_type": "code",
   "execution_count": 2,
   "metadata": {},
   "outputs": [],
   "source": [
    "white_data = pd.read_csv(\"https://archive.ics.uci.edu/ml/machine-learning-databases/wine-quality/winequality-white.csv\", sep=\";\")\n",
    "red_data = pd.read_csv(\"https://archive.ics.uci.edu/ml/machine-learning-databases/wine-quality/winequality-red.csv\", sep=\";\")"
   ]
  },
  {
   "cell_type": "markdown",
   "metadata": {},
   "source": [
    "- Possiamo adesso vedere il numero di righe e colonne dei 2 dataset"
   ]
  },
  {
   "cell_type": "code",
   "execution_count": 3,
   "metadata": {},
   "outputs": [
    {
     "data": {
      "text/plain": [
       "'Vino bianco: (4898, 12), Vino Rosso: (1599, 12)'"
      ]
     },
     "execution_count": 3,
     "metadata": {},
     "output_type": "execute_result"
    }
   ],
   "source": [
    "\"Vino bianco: {}, Vino Rosso: {}\".format(white_data.shape, red_data.shape)\n"
   ]
  },
  {
   "cell_type": "markdown",
   "metadata": {},
   "source": [
    "- Vediamo ora la lista dei nomi degli elementi contenuti nel file, lavorando inizialmente con il dataset sui vini bianchi"
   ]
  },
  {
   "cell_type": "code",
   "execution_count": 4,
   "metadata": {},
   "outputs": [
    {
     "data": {
      "text/plain": [
       "Index(['fixed acidity', 'volatile acidity', 'citric acid', 'residual sugar',\n",
       "       'chlorides', 'free sulfur dioxide', 'total sulfur dioxide', 'density',\n",
       "       'pH', 'sulphates', 'alcohol', 'quality'],\n",
       "      dtype='object')"
      ]
     },
     "execution_count": 4,
     "metadata": {},
     "output_type": "execute_result"
    }
   ],
   "source": [
    "white_data.keys()"
   ]
  },
  {
   "cell_type": "markdown",
   "metadata": {},
   "source": [
    "- Possiamo vedere che gli attributi del dataset sono i seguenti:\n",
    "    - Acidità fissa\n",
    "    - Acidità volatile\n",
    "    - Acido citrico\n",
    "    - Zucchero residuo\n",
    "    - Cloruri\n",
    "    - Biossido di zolfo libero\n",
    "    - Biossido di zolfo totale\n",
    "    - Densità\n",
    "    - ph\n",
    "    - Solfati\n",
    "    - Alcol\n",
    "    - Qualità (valore di output)\n",
    "     - Voglio stimare il valore di questa variabile in funzione delle altre \n",
    "\n",
    "- Il valore della qualità è basato su dati sensoriali (media di almeno 3 valutazioni effettuate da esperti di vini).\n",
    "\n",
    "- Ogni esperto ha valutato la qualità come valore da 0 (pessima) a 10 (ottima).\n",
    "\n",
    "\n"
   ]
  },
  {
   "cell_type": "code",
   "execution_count": 5,
   "metadata": {},
   "outputs": [
    {
     "data": {
      "text/html": [
       "<div>\n",
       "<style scoped>\n",
       "    .dataframe tbody tr th:only-of-type {\n",
       "        vertical-align: middle;\n",
       "    }\n",
       "\n",
       "    .dataframe tbody tr th {\n",
       "        vertical-align: top;\n",
       "    }\n",
       "\n",
       "    .dataframe thead th {\n",
       "        text-align: right;\n",
       "    }\n",
       "</style>\n",
       "<table border=\"1\" class=\"dataframe\">\n",
       "  <thead>\n",
       "    <tr style=\"text-align: right;\">\n",
       "      <th></th>\n",
       "      <th>fixed acidity</th>\n",
       "      <th>volatile acidity</th>\n",
       "      <th>citric acid</th>\n",
       "      <th>residual sugar</th>\n",
       "      <th>chlorides</th>\n",
       "      <th>free sulfur dioxide</th>\n",
       "      <th>total sulfur dioxide</th>\n",
       "      <th>density</th>\n",
       "      <th>pH</th>\n",
       "      <th>sulphates</th>\n",
       "      <th>alcohol</th>\n",
       "      <th>quality</th>\n",
       "    </tr>\n",
       "  </thead>\n",
       "  <tbody>\n",
       "    <tr>\n",
       "      <th>0</th>\n",
       "      <td>7.0</td>\n",
       "      <td>0.27</td>\n",
       "      <td>0.36</td>\n",
       "      <td>20.7</td>\n",
       "      <td>0.045</td>\n",
       "      <td>45.0</td>\n",
       "      <td>170.0</td>\n",
       "      <td>1.0010</td>\n",
       "      <td>3.00</td>\n",
       "      <td>0.45</td>\n",
       "      <td>8.8</td>\n",
       "      <td>6</td>\n",
       "    </tr>\n",
       "    <tr>\n",
       "      <th>1</th>\n",
       "      <td>6.3</td>\n",
       "      <td>0.30</td>\n",
       "      <td>0.34</td>\n",
       "      <td>1.6</td>\n",
       "      <td>0.049</td>\n",
       "      <td>14.0</td>\n",
       "      <td>132.0</td>\n",
       "      <td>0.9940</td>\n",
       "      <td>3.30</td>\n",
       "      <td>0.49</td>\n",
       "      <td>9.5</td>\n",
       "      <td>6</td>\n",
       "    </tr>\n",
       "    <tr>\n",
       "      <th>2</th>\n",
       "      <td>8.1</td>\n",
       "      <td>0.28</td>\n",
       "      <td>0.40</td>\n",
       "      <td>6.9</td>\n",
       "      <td>0.050</td>\n",
       "      <td>30.0</td>\n",
       "      <td>97.0</td>\n",
       "      <td>0.9951</td>\n",
       "      <td>3.26</td>\n",
       "      <td>0.44</td>\n",
       "      <td>10.1</td>\n",
       "      <td>6</td>\n",
       "    </tr>\n",
       "    <tr>\n",
       "      <th>3</th>\n",
       "      <td>7.2</td>\n",
       "      <td>0.23</td>\n",
       "      <td>0.32</td>\n",
       "      <td>8.5</td>\n",
       "      <td>0.058</td>\n",
       "      <td>47.0</td>\n",
       "      <td>186.0</td>\n",
       "      <td>0.9956</td>\n",
       "      <td>3.19</td>\n",
       "      <td>0.40</td>\n",
       "      <td>9.9</td>\n",
       "      <td>6</td>\n",
       "    </tr>\n",
       "    <tr>\n",
       "      <th>4</th>\n",
       "      <td>7.2</td>\n",
       "      <td>0.23</td>\n",
       "      <td>0.32</td>\n",
       "      <td>8.5</td>\n",
       "      <td>0.058</td>\n",
       "      <td>47.0</td>\n",
       "      <td>186.0</td>\n",
       "      <td>0.9956</td>\n",
       "      <td>3.19</td>\n",
       "      <td>0.40</td>\n",
       "      <td>9.9</td>\n",
       "      <td>6</td>\n",
       "    </tr>\n",
       "    <tr>\n",
       "      <th>5</th>\n",
       "      <td>8.1</td>\n",
       "      <td>0.28</td>\n",
       "      <td>0.40</td>\n",
       "      <td>6.9</td>\n",
       "      <td>0.050</td>\n",
       "      <td>30.0</td>\n",
       "      <td>97.0</td>\n",
       "      <td>0.9951</td>\n",
       "      <td>3.26</td>\n",
       "      <td>0.44</td>\n",
       "      <td>10.1</td>\n",
       "      <td>6</td>\n",
       "    </tr>\n",
       "    <tr>\n",
       "      <th>6</th>\n",
       "      <td>6.2</td>\n",
       "      <td>0.32</td>\n",
       "      <td>0.16</td>\n",
       "      <td>7.0</td>\n",
       "      <td>0.045</td>\n",
       "      <td>30.0</td>\n",
       "      <td>136.0</td>\n",
       "      <td>0.9949</td>\n",
       "      <td>3.18</td>\n",
       "      <td>0.47</td>\n",
       "      <td>9.6</td>\n",
       "      <td>6</td>\n",
       "    </tr>\n",
       "    <tr>\n",
       "      <th>7</th>\n",
       "      <td>7.0</td>\n",
       "      <td>0.27</td>\n",
       "      <td>0.36</td>\n",
       "      <td>20.7</td>\n",
       "      <td>0.045</td>\n",
       "      <td>45.0</td>\n",
       "      <td>170.0</td>\n",
       "      <td>1.0010</td>\n",
       "      <td>3.00</td>\n",
       "      <td>0.45</td>\n",
       "      <td>8.8</td>\n",
       "      <td>6</td>\n",
       "    </tr>\n",
       "    <tr>\n",
       "      <th>8</th>\n",
       "      <td>6.3</td>\n",
       "      <td>0.30</td>\n",
       "      <td>0.34</td>\n",
       "      <td>1.6</td>\n",
       "      <td>0.049</td>\n",
       "      <td>14.0</td>\n",
       "      <td>132.0</td>\n",
       "      <td>0.9940</td>\n",
       "      <td>3.30</td>\n",
       "      <td>0.49</td>\n",
       "      <td>9.5</td>\n",
       "      <td>6</td>\n",
       "    </tr>\n",
       "    <tr>\n",
       "      <th>9</th>\n",
       "      <td>8.1</td>\n",
       "      <td>0.22</td>\n",
       "      <td>0.43</td>\n",
       "      <td>1.5</td>\n",
       "      <td>0.044</td>\n",
       "      <td>28.0</td>\n",
       "      <td>129.0</td>\n",
       "      <td>0.9938</td>\n",
       "      <td>3.22</td>\n",
       "      <td>0.45</td>\n",
       "      <td>11.0</td>\n",
       "      <td>6</td>\n",
       "    </tr>\n",
       "  </tbody>\n",
       "</table>\n",
       "</div>"
      ],
      "text/plain": [
       "   fixed acidity  volatile acidity  citric acid  residual sugar  chlorides  \\\n",
       "0            7.0              0.27         0.36            20.7      0.045   \n",
       "1            6.3              0.30         0.34             1.6      0.049   \n",
       "2            8.1              0.28         0.40             6.9      0.050   \n",
       "3            7.2              0.23         0.32             8.5      0.058   \n",
       "4            7.2              0.23         0.32             8.5      0.058   \n",
       "5            8.1              0.28         0.40             6.9      0.050   \n",
       "6            6.2              0.32         0.16             7.0      0.045   \n",
       "7            7.0              0.27         0.36            20.7      0.045   \n",
       "8            6.3              0.30         0.34             1.6      0.049   \n",
       "9            8.1              0.22         0.43             1.5      0.044   \n",
       "\n",
       "   free sulfur dioxide  total sulfur dioxide  density    pH  sulphates  \\\n",
       "0                 45.0                 170.0   1.0010  3.00       0.45   \n",
       "1                 14.0                 132.0   0.9940  3.30       0.49   \n",
       "2                 30.0                  97.0   0.9951  3.26       0.44   \n",
       "3                 47.0                 186.0   0.9956  3.19       0.40   \n",
       "4                 47.0                 186.0   0.9956  3.19       0.40   \n",
       "5                 30.0                  97.0   0.9951  3.26       0.44   \n",
       "6                 30.0                 136.0   0.9949  3.18       0.47   \n",
       "7                 45.0                 170.0   1.0010  3.00       0.45   \n",
       "8                 14.0                 132.0   0.9940  3.30       0.49   \n",
       "9                 28.0                 129.0   0.9938  3.22       0.45   \n",
       "\n",
       "   alcohol  quality  \n",
       "0      8.8        6  \n",
       "1      9.5        6  \n",
       "2     10.1        6  \n",
       "3      9.9        6  \n",
       "4      9.9        6  \n",
       "5     10.1        6  \n",
       "6      9.6        6  \n",
       "7      8.8        6  \n",
       "8      9.5        6  \n",
       "9     11.0        6  "
      ]
     },
     "execution_count": 5,
     "metadata": {},
     "output_type": "execute_result"
    }
   ],
   "source": [
    "white_data.head(10)"
   ]
  },
  {
   "cell_type": "markdown",
   "metadata": {},
   "source": [
    "- Voglio ora sapere quanti vini sono presenti nel dataset per ogni valore della qualità, e voglio rappresentare il risultato attraverso in grafico.\n",
    "- Andrò quindi ad importare il modulo opportuno."
   ]
  },
  {
   "cell_type": "code",
   "execution_count": 6,
   "metadata": {},
   "outputs": [],
   "source": [
    "import matplotlib.pyplot as plt\n",
    "%matplotlib inline"
   ]
  },
  {
   "cell_type": "markdown",
   "metadata": {},
   "source": [
    "- Uso la funzione group by per dividere i dati in base alla qualità e conto il numero di valori per ogni gruppo."
   ]
  },
  {
   "cell_type": "code",
   "execution_count": 7,
   "metadata": {},
   "outputs": [
    {
     "data": {
      "text/plain": [
       "quality\n",
       "3      20\n",
       "4     163\n",
       "5    1457\n",
       "6    2198\n",
       "7     880\n",
       "8     175\n",
       "9       5\n",
       "Name: quality, dtype: int64"
      ]
     },
     "execution_count": 7,
     "metadata": {},
     "output_type": "execute_result"
    }
   ],
   "source": [
    "# Data to plot\n",
    "labels = [x for x in range(white_data['quality'].min(),white_data['quality'].max()+1)]\n",
    "sizes = white_data.groupby(['quality'])['quality'].count()\n",
    "sizes"
   ]
  },
  {
   "cell_type": "markdown",
   "metadata": {},
   "source": [
    "- In particolare il grafico che mi può più essere utile è il grafico a torta che vado quindi a generare."
   ]
  },
  {
   "cell_type": "code",
   "execution_count": 8,
   "metadata": {},
   "outputs": [
    {
     "data": {
      "image/png": "[encoded data removed]",
      "text/plain": [
       "<Figure size 432x288 with 1 Axes>"
      ]
     },
     "metadata": {},
     "output_type": "display_data"
    }
   ],
   "source": [
    "colors = ['gold', 'yellowgreen', 'lightcoral', 'lightskyblue','red','blue','black']\n",
    "explode = (0.1, 0, 0, 0,0,0,0)  # explode 1st slice\n",
    " \n",
    "#Plot\n",
    "plt.pie(sizes, explode=explode, labels=labels, colors=colors,autopct='%1.1f%%', shadow=True, startangle=140)\n",
    "plt.legend(labels, loc=\"best\")\n",
    "plt.axis('equal')\n",
    "plt.tight_layout()\n",
    "plt.show()"
   ]
  },
  {
   "cell_type": "markdown",
   "metadata": {},
   "source": [
    "- Come è possibile vedere il 90% circa dei vini del dataset è di qualità 5, 6 o 7. \n",
    "- Non ci sono vini con qualità inferiore al 3 nè con qualità 10."
   ]
  },
  {
   "cell_type": "markdown",
   "metadata": {},
   "source": [
    "## Metodo risolutivo e Risultati"
   ]
  },
  {
   "cell_type": "markdown",
   "metadata": {},
   "source": [
    "- Il metodo usato è quello della <b>Regressione Lineare Multivariata</b>, dove cioè una variabile dipendente è stimata su n variabili indipendenti. \n",
    "\n",
    "- Un insieme di m osservazioni su cui addestrare il modello può essere rappresentato da\n",
    " - una matrice X con m x n valori delle variabili indipendenti\n",
    " - un vettore y con i corrispondenti m valori noti della variabile dipendente"
   ]
  },
  {
   "cell_type": "markdown",
   "metadata": {},
   "source": [
    "- Devo quindi estrarre dal DataSet la matrice X e il vettore y\n",
    "\n",
    "- y è dato dalla colonna 'quality' "
   ]
  },
  {
   "cell_type": "code",
   "execution_count": 9,
   "metadata": {},
   "outputs": [],
   "source": [
    "y = white_data['quality']"
   ]
  },
  {
   "cell_type": "markdown",
   "metadata": {},
   "source": [
    "- X è dato dall'intero DataSet ad eclusione della colonna 'quality'"
   ]
  },
  {
   "cell_type": "code",
   "execution_count": 10,
   "metadata": {},
   "outputs": [],
   "source": [
    "X = white_data.drop(columns=['quality'])"
   ]
  },
  {
   "cell_type": "markdown",
   "metadata": {},
   "source": [
    "- Ora vado ad implementare la funzione della discesa del gradiente per la regressione lineare multivariata"
   ]
  },
  {
   "cell_type": "code",
   "execution_count": 11,
   "metadata": {},
   "outputs": [],
   "source": [
    "def lin_reg_gd(X, y, N=50, step_size=0.000001):\n",
    "    # estraggo numero di osservazioni e di feature\n",
    "    m, n = X.shape\n",
    "    # creo copia di X con aggiunta una colonna di 1\n",
    "    # (hstack concatena matrici orizzontalmente)\n",
    "    X1 = np.hstack([np.ones((m, 1)), X])\n",
    "    # inizializzo vettore parametri a zero\n",
    "    theta = np.zeros(n+1)\n",
    "    for it in range(N):\n",
    "        # calcolo l'errore su ciascuna osservazione\n",
    "        error = X1.dot(theta) - y\n",
    "        # calcolo il gradiente\n",
    "        grad = 2 / m * (X1.T.dot(error))\n",
    "        # aggiorno il vettore dei parametri\n",
    "        theta -= step_size * grad\n",
    "    return theta"
   ]
  },
  {
   "cell_type": "markdown",
   "metadata": {},
   "source": [
    "- Eseguo la funzione per ottenere un vettore di parametri del modello"
   ]
  },
  {
   "cell_type": "code",
   "execution_count": 12,
   "metadata": {},
   "outputs": [],
   "source": [
    "theta=lin_reg_gd(X, y)"
   ]
  },
  {
   "cell_type": "markdown",
   "metadata": {},
   "source": [
    "- Posso ora, per esempio, calcolare il valore della qualità sulla prima riga di X"
   ]
  },
  {
   "cell_type": "code",
   "execution_count": 13,
   "metadata": {},
   "outputs": [
    {
     "data": {
      "text/plain": [
       "5.921395002109202"
      ]
     },
     "execution_count": 13,
     "metadata": {},
     "output_type": "execute_result"
    }
   ],
   "source": [
    "sample=X.iloc[0]\n",
    "theta[0]+theta[1:].dot(sample)"
   ]
  },
  {
   "cell_type": "markdown",
   "metadata": {},
   "source": [
    "- Ed ora lo posso confrontare con il valore reale"
   ]
  },
  {
   "cell_type": "code",
   "execution_count": 14,
   "metadata": {},
   "outputs": [
    {
     "data": {
      "text/plain": [
       "6"
      ]
     },
     "execution_count": 14,
     "metadata": {},
     "output_type": "execute_result"
    }
   ],
   "source": [
    "y[0]"
   ]
  },
  {
   "cell_type": "markdown",
   "metadata": {},
   "source": [
    "### Funzione dell'errore\n",
    "- Posso calcolare l'errore quadratico medio di cui è stato calcolato il gradiente precedentemente tramite questa funzione"
   ]
  },
  {
   "cell_type": "code",
   "execution_count": 15,
   "metadata": {},
   "outputs": [],
   "source": [
    "def mse(X, y, theta):\n",
    "    m, n = X.shape\n",
    "    X1 = np.hstack([np.ones((m, 1)), X])\n",
    "    return ((X1.dot(theta) - y) ** 2).mean()"
   ]
  },
  {
   "cell_type": "markdown",
   "metadata": {},
   "source": [
    "- Possiamo ora visualizzare l'andamento dell'errore in base al numero di iterazioni"
   ]
  },
  {
   "cell_type": "code",
   "execution_count": 16,
   "metadata": {},
   "outputs": [
    {
     "data": {
      "text/plain": [
       "array([35.33401388, 32.59239413, 30.09209378, 27.81186966, 25.73234861,\n",
       "       23.83586288, 22.10630001, 20.52896589, 19.09045995, 17.77856123,\n",
       "       16.58212459, 15.49098599, 14.49587612, 13.58834163, 12.76067334,\n",
       "       12.00584067, 11.31743197, 10.68959997, 10.11701216,  9.59480543,\n",
       "        9.11854478,  8.68418559,  8.28803932,  7.92674212,  7.59722624,\n",
       "        7.296694  ,  7.022594  ,  6.77259942,  6.54458828,  6.33662541])"
      ]
     },
     "execution_count": 16,
     "metadata": {},
     "output_type": "execute_result"
    }
   ],
   "source": [
    "error_prog = np.array([mse(X, y, lin_reg_gd(X, y, N)) for N in range(30)])\n",
    "error_prog"
   ]
  },
  {
   "cell_type": "code",
   "execution_count": 17,
   "metadata": {},
   "outputs": [
    {
     "data": {
      "text/plain": [
       "[<matplotlib.lines.Line2D at 0xf4dcf90>]"
      ]
     },
     "execution_count": 17,
     "metadata": {},
     "output_type": "execute_result"
    },
    {
     "data": {
      "image/png": "[encoded data removed]",
      "text/plain": [
       "<Figure size 432x288 with 1 Axes>"
      ]
     },
     "metadata": {},
     "output_type": "display_data"
    }
   ],
   "source": [
    "plt.plot(error_prog, \"ro-\")"
   ]
  },
  {
   "cell_type": "markdown",
   "metadata": {},
   "source": [
    "- Applichiamo una scala logaritmica per visualizzare meglio l'andamento per valori piccoli"
   ]
  },
  {
   "cell_type": "code",
   "execution_count": 18,
   "metadata": {},
   "outputs": [
    {
     "data": {
      "text/plain": [
       "[<matplotlib.lines.Line2D at 0xf4e8350>]"
      ]
     },
     "execution_count": 18,
     "metadata": {},
     "output_type": "execute_result"
    },
    {
     "data": {
      "image/png": "[encoded data removed]",
      "text/plain": [
       "<Figure size 432x288 with 1 Axes>"
      ]
     },
     "metadata": {},
     "output_type": "display_data"
    }
   ],
   "source": [
    "plt.semilogy(error_prog, \"ro-\")"
   ]
  },
  {
   "cell_type": "markdown",
   "metadata": {},
   "source": [
    "- Importo ora il modulo 'sklearn' in quanto offre diverse funzioni per l'addestramento e l'uso di modelli "
   ]
  },
  {
   "cell_type": "code",
   "execution_count": 19,
   "metadata": {},
   "outputs": [],
   "source": [
    "import sklearn"
   ]
  },
  {
   "cell_type": "markdown",
   "metadata": {},
   "source": [
    "- A questo punto divido i dati a disposizione per poter costruire il modello in:\n",
    "    - un training set su cui il modello è effettivamente addestrato, minimizzandone l'errore\n",
    "    - un validation set su cui verificare l'errore del modello\n",
    "    \n",
    "- Per fare questo uso la funzione 'train_test_split' di scikit-learn"
   ]
  },
  {
   "cell_type": "code",
   "execution_count": 20,
   "metadata": {},
   "outputs": [],
   "source": [
    "from sklearn.model_selection import train_test_split\n",
    "X_train, X_val, y_train, y_val = \\\n",
    "    train_test_split(X, y, test_size=0.3, random_state=44)"
   ]
  },
  {
   "cell_type": "markdown",
   "metadata": {},
   "source": [
    "- Per addestrare un modello di regressione devo prima creare un modello vuoto"
   ]
  },
  {
   "cell_type": "code",
   "execution_count": 21,
   "metadata": {},
   "outputs": [],
   "source": [
    "from sklearn.linear_model import LinearRegression\n",
    "lrm = LinearRegression()"
   ]
  },
  {
   "cell_type": "markdown",
   "metadata": {},
   "source": [
    "- Userò quindi il metodo fit per addestrarlo sui dati del training set"
   ]
  },
  {
   "cell_type": "code",
   "execution_count": 22,
   "metadata": {},
   "outputs": [
    {
     "data": {
      "text/plain": [
       "LinearRegression(copy_X=True, fit_intercept=True, n_jobs=1, normalize=False)"
      ]
     },
     "execution_count": 22,
     "metadata": {},
     "output_type": "execute_result"
    }
   ],
   "source": [
    "lrm.fit(X_train, y_train)"
   ]
  },
  {
   "cell_type": "markdown",
   "metadata": {},
   "source": [
    "- Posso ora vedere il coefficiente angolare e l'intercetta del modello addestrato"
   ]
  },
  {
   "cell_type": "code",
   "execution_count": 23,
   "metadata": {},
   "outputs": [
    {
     "data": {
      "text/plain": [
       "array([ 6.27664859e-02, -1.75417474e+00,  1.39334114e-02,  7.27471076e-02,\n",
       "       -1.98435691e-01,  4.68620252e-03, -7.86781341e-04, -1.30370598e+02,\n",
       "        6.08570333e-01,  5.45873321e-01,  2.14629308e-01])"
      ]
     },
     "execution_count": 23,
     "metadata": {},
     "output_type": "execute_result"
    }
   ],
   "source": [
    "lrm.coef_"
   ]
  },
  {
   "cell_type": "code",
   "execution_count": 24,
   "metadata": {},
   "outputs": [
    {
     "data": {
      "text/plain": [
       "130.54741272724394"
      ]
     },
     "execution_count": 24,
     "metadata": {},
     "output_type": "execute_result"
    }
   ],
   "source": [
    "lrm.intercept_"
   ]
  },
  {
   "cell_type": "markdown",
   "metadata": {},
   "source": [
    "- Mi è ora possibile capire come le varie caratteristiche influiscano sul valore della qualità\n",
    "- Per farlo posso associare ad ogni coefficiente angolare il nome della variabile corrispondente"
   ]
  },
  {
   "cell_type": "code",
   "execution_count": 25,
   "metadata": {},
   "outputs": [
    {
     "data": {
      "text/plain": [
       "fixed acidity             0.062766\n",
       "volatile acidity         -1.754175\n",
       "citric acid               0.013933\n",
       "residual sugar            0.072747\n",
       "chlorides                -0.198436\n",
       "free sulfur dioxide       0.004686\n",
       "total sulfur dioxide     -0.000787\n",
       "density                -130.370598\n",
       "pH                        0.608570\n",
       "sulphates                 0.545873\n",
       "alcohol                   0.214629\n",
       "dtype: float64"
      ]
     },
     "execution_count": 25,
     "metadata": {},
     "output_type": "execute_result"
    }
   ],
   "source": [
    "pd.Series(lrm.coef_, index=X.columns)"
   ]
  },
  {
   "cell_type": "markdown",
   "metadata": {},
   "source": [
    "- Da questa operazione è facile vedere come la densità sia la caratteristica più influente nella valutazione della qualità dei vini\n",
    "- Vado quindi ad approfondire questa informazione, cercando la densità media per ogni qualità"
   ]
  },
  {
   "cell_type": "code",
   "execution_count": 26,
   "metadata": {},
   "outputs": [
    {
     "name": "stdout",
     "output_type": "stream",
     "text": [
      "quality\n",
      "3    0.994884\n",
      "4    0.994277\n",
      "5    0.995263\n",
      "6    0.993961\n",
      "7    0.992452\n",
      "8    0.992236\n",
      "9    0.991460\n",
      "Name: density, dtype: float64\n"
     ]
    }
   ],
   "source": [
    "g = white_data.groupby('quality')\n",
    "mean_labels  = g['density'].mean()\n",
    "print(mean_labels)"
   ]
  },
  {
   "cell_type": "markdown",
   "metadata": {},
   "source": [
    "- Posso anche vedere la variazione della densità attraverso un grafico"
   ]
  },
  {
   "cell_type": "code",
   "execution_count": 27,
   "metadata": {},
   "outputs": [
    {
     "data": {
      "image/png": "[encoded data removed]",
      "text/plain": [
       "<Figure size 432x288 with 1 Axes>"
      ]
     },
     "metadata": {},
     "output_type": "display_data"
    }
   ],
   "source": [
    "min_x=white_data['quality'].min()\n",
    "max_x=white_data['quality'].max()\n",
    "min_y=white_data['density'].min()\n",
    "max_y=white_data['density'].max()\n",
    "\n",
    "fig = plt.figure()\n",
    "ax = plt.axes()\n",
    "\n",
    "x = np.linspace(min_x,max_x,len(mean_labels))\n",
    "ax.plot(x, mean_labels);"
   ]
  },
  {
   "cell_type": "markdown",
   "metadata": {},
   "source": [
    "- Si vede bene come la qualità migliori al diminuire della densità. L'unica eccezione è nelle qualità '3 e 4', ma questo è probabilmente dovuto al ristretto numero di dati per quelle qualità"
   ]
  },
  {
   "cell_type": "markdown",
   "metadata": {},
   "source": [
    "- Come abbiamo visto in precedenza il secondo dato più influente è l'acidità volatile, perciò andiamo a verificare come varia rispetto alla qualità."
   ]
  },
  {
   "cell_type": "code",
   "execution_count": 28,
   "metadata": {},
   "outputs": [
    {
     "name": "stdout",
     "output_type": "stream",
     "text": [
      "quality\n",
      "3    0.333250\n",
      "4    0.381227\n",
      "5    0.302011\n",
      "6    0.260564\n",
      "7    0.262767\n",
      "8    0.277400\n",
      "9    0.298000\n",
      "Name: volatile acidity, dtype: float64\n"
     ]
    }
   ],
   "source": [
    "g = white_data.groupby('quality')\n",
    "mean_labels  = g['volatile acidity'].mean()\n",
    "print(mean_labels)"
   ]
  },
  {
   "cell_type": "code",
   "execution_count": 29,
   "metadata": {},
   "outputs": [
    {
     "data": {
      "image/png": "[encoded data removed]",
      "text/plain": [
       "<Figure size 432x288 with 1 Axes>"
      ]
     },
     "metadata": {},
     "output_type": "display_data"
    }
   ],
   "source": [
    "min_x=white_data['quality'].min()\n",
    "max_x=white_data['quality'].max()\n",
    "min_y=white_data['density'].min()\n",
    "max_y=white_data['density'].max()\n",
    "\n",
    "fig = plt.figure()\n",
    "ax = plt.axes()\n",
    "\n",
    "x = np.linspace(min_x,max_x,len(mean_labels))\n",
    "ax.plot(x, mean_labels);"
   ]
  },
  {
   "cell_type": "markdown",
   "metadata": {},
   "source": [
    "### Ottenere Predizioni dal Modello\n",
    "- Il metodo predict, dopo avergli passato un set di variabili indipendenti, permette di ottenere i valori della variabile dipendente corrispondenti previsti dal modello\n",
    "- Facciamo una prova con alcuni valori del training set"
   ]
  },
  {
   "cell_type": "code",
   "execution_count": 30,
   "metadata": {},
   "outputs": [
    {
     "data": {
      "text/plain": [
       "array([5.70574246, 5.93763075, 6.103053  , ..., 5.67380343, 5.62644939,\n",
       "       5.97754512])"
      ]
     },
     "execution_count": 30,
     "metadata": {},
     "output_type": "execute_result"
    }
   ],
   "source": [
    "pred_train = lrm.predict(X_train)\n",
    "pred_train[:5]"
   ]
  },
  {
   "cell_type": "markdown",
   "metadata": {},
   "source": [
    "- Ottengo le predizioni anche per il validation set"
   ]
  },
  {
   "cell_type": "code",
   "execution_count": 31,
   "metadata": {},
   "outputs": [
    {
     "data": {
      "text/plain": [
       "array([5.8049428 , 6.29654425, 5.72320663, 5.79302498, 5.5818338 ])"
      ]
     },
     "execution_count": 31,
     "metadata": {},
     "output_type": "execute_result"
    }
   ],
   "source": [
    "pred_val = lrm.predict(X_val)\n",
    "pred_val[:5]"
   ]
  },
  {
   "cell_type": "markdown",
   "metadata": {},
   "source": [
    "### Calcolo dell'Errore del Modello\n",
    "- Possiamo confrontare i risultati dati dal modello con i dati effettivi per vedere l'errore compiuto dal modello\n",
    "- Andiamo a calcolare l'errore quadratico medio sui dati di training, che è stato minimizzato dal modello"
   ]
  },
  {
   "cell_type": "code",
   "execution_count": 32,
   "metadata": {},
   "outputs": [
    {
     "data": {
      "text/plain": [
       "0.563186940527614"
      ]
     },
     "execution_count": 32,
     "metadata": {},
     "output_type": "execute_result"
    }
   ],
   "source": [
    "((pred_train - y_train)**2).mean()"
   ]
  },
  {
   "cell_type": "markdown",
   "metadata": {},
   "source": [
    "- errore quadratico medio sul validation set "
   ]
  },
  {
   "cell_type": "code",
   "execution_count": 33,
   "metadata": {},
   "outputs": [
    {
     "data": {
      "text/plain": [
       "0.5650853099177966"
      ]
     },
     "execution_count": 33,
     "metadata": {},
     "output_type": "execute_result"
    }
   ],
   "source": [
    "((pred_val - y_val)**2).mean()"
   ]
  },
  {
   "cell_type": "markdown",
   "metadata": {},
   "source": [
    "- Errore relativo medio sul training set"
   ]
  },
  {
   "cell_type": "code",
   "execution_count": 34,
   "metadata": {},
   "outputs": [
    {
     "data": {
      "text/plain": [
       "0.10271345311718677"
      ]
     },
     "execution_count": 34,
     "metadata": {},
     "output_type": "execute_result"
    }
   ],
   "source": [
    "((pred_train - y_train) / y_train).abs().mean()"
   ]
  },
  {
   "cell_type": "markdown",
   "metadata": {},
   "source": [
    "- Errore relativo medio sul validation set"
   ]
  },
  {
   "cell_type": "code",
   "execution_count": 35,
   "metadata": {},
   "outputs": [
    {
     "data": {
      "text/plain": [
       "0.10420592013534366"
      ]
     },
     "execution_count": 35,
     "metadata": {},
     "output_type": "execute_result"
    }
   ],
   "source": [
    "((pred_val - y_val) / y_val).abs().mean()"
   ]
  },
  {
   "cell_type": "markdown",
   "metadata": {},
   "source": [
    "### Confronto con il Vino Rosso\n",
    "\n",
    "- Andiamo ora a prendere i dati sul vino rosso e vediamo se i risultati sono simili"
   ]
  },
  {
   "cell_type": "code",
   "execution_count": 36,
   "metadata": {},
   "outputs": [
    {
     "data": {
      "text/plain": [
       "quality\n",
       "3     10\n",
       "4     53\n",
       "5    681\n",
       "6    638\n",
       "7    199\n",
       "8     18\n",
       "Name: quality, dtype: int64"
      ]
     },
     "execution_count": 36,
     "metadata": {},
     "output_type": "execute_result"
    }
   ],
   "source": [
    "# Data to plot\n",
    "labels = [x for x in range(red_data['quality'].min(),red_data['quality'].max()+1)]\n",
    "sizes = red_data.groupby(['quality'])['quality'].count()\n",
    "sizes"
   ]
  },
  {
   "cell_type": "code",
   "execution_count": 37,
   "metadata": {},
   "outputs": [
    {
     "data": {
      "image/png": "[encoded data removed]",
      "text/plain": [
       "<Figure size 432x288 with 1 Axes>"
      ]
     },
     "metadata": {},
     "output_type": "display_data"
    }
   ],
   "source": [
    "colors = ['gold', 'yellowgreen', 'lightcoral', 'lightskyblue','red','blue','black']\n",
    " \n",
    "#Plot\n",
    "plt.pie(sizes,  labels=labels, colors=colors,autopct='%1.1f%%', shadow=True, startangle=140)\n",
    "plt.legend(labels, loc=\"best\")\n",
    "plt.axis('equal')\n",
    "plt.tight_layout()\n",
    "plt.show()"
   ]
  },
  {
   "cell_type": "markdown",
   "metadata": {},
   "source": [
    "- Innanzitutto è possibile vedere che i dati raccolti hanno percentuali di qualità diverse, per esempio i vini con qualità 5 sono qui molto più presenti"
   ]
  },
  {
   "cell_type": "code",
   "execution_count": 38,
   "metadata": {},
   "outputs": [],
   "source": [
    "y = red_data['quality']\n",
    "X = red_data.drop(columns=['quality'])\n",
    "\n",
    "theta=lin_reg_gd(X, y)"
   ]
  },
  {
   "cell_type": "code",
   "execution_count": 39,
   "metadata": {},
   "outputs": [],
   "source": [
    "error_prog = np.array([mse(X, y, lin_reg_gd(X, y, N)) for N in range(30)])"
   ]
  },
  {
   "cell_type": "code",
   "execution_count": 40,
   "metadata": {},
   "outputs": [
    {
     "data": {
      "text/plain": [
       "array([32.41651032, 32.09638622, 31.78090062, 31.46998569, 31.16357459,\n",
       "       30.86160147, 30.56400142, 30.27071052, 29.98166574, 29.696805  ,\n",
       "       29.41606711, 29.13939179, 28.86671964, 28.59799212, 28.33315155,\n",
       "       28.0721411 , 27.81490476, 27.56138735, 27.31153448, 27.06529258,\n",
       "       26.82260885, 26.58343125, 26.34770853, 26.11539017, 25.88642639,\n",
       "       25.66076813, 25.43836708, 25.2191756 , 25.00314677, 24.79023434])"
      ]
     },
     "execution_count": 40,
     "metadata": {},
     "output_type": "execute_result"
    }
   ],
   "source": [
    "error_prog"
   ]
  },
  {
   "cell_type": "code",
   "execution_count": 41,
   "metadata": {},
   "outputs": [
    {
     "data": {
      "text/plain": [
       "[<matplotlib.lines.Line2D at 0x14c757b0>]"
      ]
     },
     "execution_count": 41,
     "metadata": {},
     "output_type": "execute_result"
    },
    {
     "data": {
      "image/png": "[encoded data removed]",
      "text/plain": [
       "<Figure size 432x288 with 1 Axes>"
      ]
     },
     "metadata": {},
     "output_type": "display_data"
    }
   ],
   "source": [
    "plt.plot(error_prog, \"ro-\")"
   ]
  },
  {
   "cell_type": "code",
   "execution_count": 42,
   "metadata": {},
   "outputs": [
    {
     "data": {
      "text/plain": [
       "[<matplotlib.lines.Line2D at 0x14c52090>]"
      ]
     },
     "execution_count": 42,
     "metadata": {},
     "output_type": "execute_result"
    },
    {
     "data": {
      "image/png": "[encoded data removed]",
      "text/plain": [
       "<Figure size 432x288 with 1 Axes>"
      ]
     },
     "metadata": {},
     "output_type": "display_data"
    }
   ],
   "source": [
    "plt.semilogy(error_prog, \"ro-\")"
   ]
  },
  {
   "cell_type": "code",
   "execution_count": 43,
   "metadata": {},
   "outputs": [
    {
     "data": {
      "text/plain": [
       "LinearRegression(copy_X=True, fit_intercept=True, n_jobs=1, normalize=False)"
      ]
     },
     "execution_count": 43,
     "metadata": {},
     "output_type": "execute_result"
    }
   ],
   "source": [
    "X_train, X_val, y_train, y_val = \\\n",
    "    train_test_split(X, y, test_size=0.3, random_state=44)\n",
    "lrm = LinearRegression()\n",
    "lrm.fit(X_train, y_train)"
   ]
  },
  {
   "cell_type": "code",
   "execution_count": 44,
   "metadata": {},
   "outputs": [
    {
     "data": {
      "text/plain": [
       "array([-2.68572039e-02, -9.74124240e-01, -6.54307700e-02,  2.92549234e-03,\n",
       "       -2.28135632e+00,  5.70040564e-03, -3.65279758e-03,  1.71288343e+01,\n",
       "       -6.65677305e-01,  1.02435078e+00,  3.03906242e-01])"
      ]
     },
     "execution_count": 44,
     "metadata": {},
     "output_type": "execute_result"
    }
   ],
   "source": [
    "lrm.coef_"
   ]
  },
  {
   "cell_type": "code",
   "execution_count": 45,
   "metadata": {},
   "outputs": [
    {
     "data": {
      "text/plain": [
       "-12.033472335075007"
      ]
     },
     "execution_count": 45,
     "metadata": {},
     "output_type": "execute_result"
    }
   ],
   "source": [
    "lrm.intercept_"
   ]
  },
  {
   "cell_type": "code",
   "execution_count": 46,
   "metadata": {},
   "outputs": [
    {
     "data": {
      "text/plain": [
       "fixed acidity           -0.026857\n",
       "volatile acidity        -0.974124\n",
       "citric acid             -0.065431\n",
       "residual sugar           0.002925\n",
       "chlorides               -2.281356\n",
       "free sulfur dioxide      0.005700\n",
       "total sulfur dioxide    -0.003653\n",
       "density                 17.128834\n",
       "pH                      -0.665677\n",
       "sulphates                1.024351\n",
       "alcohol                  0.303906\n",
       "dtype: float64"
      ]
     },
     "execution_count": 46,
     "metadata": {},
     "output_type": "execute_result"
    }
   ],
   "source": [
    "pd.Series(lrm.coef_, index=X.columns)"
   ]
  },
  {
   "cell_type": "code",
   "execution_count": 47,
   "metadata": {},
   "outputs": [
    {
     "name": "stdout",
     "output_type": "stream",
     "text": [
      "quality\n",
      "3    0.997464\n",
      "4    0.996542\n",
      "5    0.997104\n",
      "6    0.996615\n",
      "7    0.996104\n",
      "8    0.995212\n",
      "Name: density, dtype: float64\n"
     ]
    }
   ],
   "source": [
    "g = red_data.groupby('quality')\n",
    "mean_labels  = g['density'].mean()\n",
    "print(mean_labels)"
   ]
  },
  {
   "cell_type": "code",
   "execution_count": 48,
   "metadata": {},
   "outputs": [
    {
     "data": {
      "image/png": "[encoded data removed]",
      "text/plain": [
       "<Figure size 432x288 with 1 Axes>"
      ]
     },
     "metadata": {},
     "output_type": "display_data"
    }
   ],
   "source": [
    "min_x=red_data['quality'].min()\n",
    "max_x=red_data['quality'].max()\n",
    "min_y=red_data['density'].min()\n",
    "max_y=red_data['density'].max()\n",
    "\n",
    "fig = plt.figure()\n",
    "ax = plt.axes()\n",
    "\n",
    "x = np.linspace(min_x,max_x,len(mean_labels))\n",
    "ax.plot(x, mean_labels);"
   ]
  },
  {
   "cell_type": "markdown",
   "metadata": {},
   "source": [
    "- Anche con i vini rossi, la qualità aumenta al diminuire della densità"
   ]
  },
  {
   "cell_type": "code",
   "execution_count": 49,
   "metadata": {},
   "outputs": [],
   "source": [
    "pred_train = lrm.predict(X_train)\n",
    "pred_val = lrm.predict(X_val)"
   ]
  },
  {
   "cell_type": "markdown",
   "metadata": {},
   "source": [
    "- Vediamo ora in ordine l'errore quadratico medio sui dati di training, l'errore quadratico medio sul validation set, l'errore relativo medio sul training set e l'errore relativo medio sul validation set"
   ]
  },
  {
   "cell_type": "code",
   "execution_count": 50,
   "metadata": {},
   "outputs": [
    {
     "data": {
      "text/plain": [
       "0.4013157743905628"
      ]
     },
     "execution_count": 50,
     "metadata": {},
     "output_type": "execute_result"
    }
   ],
   "source": [
    "((pred_train - y_train)**2).mean()"
   ]
  },
  {
   "cell_type": "code",
   "execution_count": 51,
   "metadata": {},
   "outputs": [
    {
     "data": {
      "text/plain": [
       "0.45914975941796654"
      ]
     },
     "execution_count": 51,
     "metadata": {},
     "output_type": "execute_result"
    }
   ],
   "source": [
    "((pred_val - y_val)**2).mean()"
   ]
  },
  {
   "cell_type": "code",
   "execution_count": 52,
   "metadata": {},
   "outputs": [
    {
     "data": {
      "text/plain": [
       "0.09021633138574825"
      ]
     },
     "execution_count": 52,
     "metadata": {},
     "output_type": "execute_result"
    }
   ],
   "source": [
    "((pred_train - y_train) / y_train).abs().mean()"
   ]
  },
  {
   "cell_type": "code",
   "execution_count": 53,
   "metadata": {},
   "outputs": [
    {
     "data": {
      "text/plain": [
       "0.09683441332434671"
      ]
     },
     "execution_count": 53,
     "metadata": {},
     "output_type": "execute_result"
    }
   ],
   "source": [
    "((pred_val - y_val) / y_val).abs().mean()"
   ]
  },
  {
   "cell_type": "markdown",
   "metadata": {},
   "source": [
    "- Rispetto ai dati degli errori sul vino bianco, questi sono tutti più piccoli"
   ]
  },
  {
   "cell_type": "markdown",
   "metadata": {},
   "source": [
    "## Conclusioni e Configurazione per applicazione web"
   ]
  },
  {
   "cell_type": "markdown",
   "metadata": {},
   "source": [
    "- In conclusione, questo progetto ha permesso la creazione di un modello in grado di ricavare il livello di qualità dei vini con una percentuale di errore molto bassa\n",
    "- E' stato inoltre interessante vedere come i vari attributi incidano sul ricavo del suo valore"
   ]
  },
  {
   "cell_type": "markdown",
   "metadata": {},
   "source": [
    "- Per far funzionare la web app è necessario spostare la cartella WebApp nel percorso dell'ambiente virtuale e attivare l'ambiente virtuale.\n",
    "- A questo punto va configurata in una variabile d'ambiente FLASK_APP il nome del file\n",
    " - export FLASK_APP=webapp.py (in Linux e Mac OS X)\n",
    " - set FLASK_APP=webapp.py (in Windows)\n",
    "- Si può quindi eseguire l'applicazione lanciando dalla directory dell'applicazione il comando: flask run\n",
    "- L'applicazione contiene un form in cui inserire le informazioni del vino di cui si deve predire la qualità. Premendo il pulsante sotto il form verrà trovata la qualità\n",
    "- Sotto sono presenti alcuni link relativi potenzialmente utili per un ipotetico utente\n",
    "- Per far funzionare l'applicazione sono necessari i moduli numpy, pandas, flask e sklearn"
   ]
  },
  {
   "cell_type": "markdown",
   "metadata": {},
   "source": [
    "- Citazione richiesta per l'uso del DataSet:<br/>\n",
    "<i>P. Cortez, A. Cerdeira, F. Almeida, T. Matos and J. Reis. <br/>\n",
    "Modeling wine preferences by data mining from physicochemical properties. In Decision Support Systems, Elsevier, 47(4):547-553, 2009.</i>\n",
    "- Link al DataSet: https://archive.ics.uci.edu/ml/datasets/Wine+Quality"
   ]
  }
 ],
 "metadata": {
  "celltoolbar": "Slideshow",
  "kernelspec": {
   "display_name": "Python 3",
   "language": "python",
   "name": "python3"
  },
  "language_info": {
   "codemirror_mode": {
    "name": "ipython",
    "version": 3
   },
   "file_extension": ".py",
   "mimetype": "text/x-python",
   "name": "python",
   "nbconvert_exporter": "python",
   "pygments_lexer": "ipython3",
   "version": "3.6.1"
  }
 },
 "nbformat": 4,
 "nbformat_minor": 2
}
